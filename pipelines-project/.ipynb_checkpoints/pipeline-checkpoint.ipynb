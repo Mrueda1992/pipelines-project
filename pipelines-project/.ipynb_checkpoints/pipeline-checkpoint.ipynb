{
 "cells": [
  {
   "cell_type": "code",
   "execution_count": 1,
   "metadata": {},
   "outputs": [],
   "source": [
    "import pandas as pd\n",
    "import requests \n",
    "import json"
   ]
  },
  {
   "cell_type": "code",
   "execution_count": 2,
   "metadata": {},
   "outputs": [],
   "source": [
    "#Load data\n",
    "def load_data(data):\n",
    "    df = pd.read_csv(data, encoding=\"ISO-8859-1\")\n",
    "    return df"
   ]
  },
  {
   "cell_type": "code",
   "execution_count": 3,
   "metadata": {},
   "outputs": [],
   "source": [
    "#Clean data\n",
    "def drop_nulls(df):\n",
    "    #df = df[df[cols].notnull()]\n",
    "    df = df.fillna(\"0\")\n",
    "    return df\n",
    "\n",
    "def rename (df, col, new_col):\n",
    "    df.rename (columns= {col: new_col}, inplace=True)\n",
    "    return df"
   ]
  },
  {
   "cell_type": "code",
   "execution_count": 4,
   "metadata": {},
   "outputs": [],
   "source": [
    "#Analyse data\n",
    "\n",
    "def pointers(df, points):\n",
    "    df = nba.groupby('Player')[points].sum().sort_values(ascending=False)\n",
    "    return df\n",
    "\n",
    "def shooters (df, shoots):\n",
    "    df = nba.groupby('Player')[shoots].sum().sort_values(ascending=False)\n",
    "    return df\n",
    "\n",
    "def accurates(df, pointers, shooters):\n",
    "    df = round(pointers/shooters,3)\n",
    "    return df"
   ]
  },
  {
   "cell_type": "code",
   "execution_count": 5,
   "metadata": {},
   "outputs": [],
   "source": [
    "#Call API\n",
    "\n",
    "def getAPI():\n",
    "    url = \"https://www.balldontlie.io/api/v1/stats?seasons[]=2018&seasons[]=2019&player_ids[]=115\"\n",
    "    res = requests.get(url)\n",
    "    text = res.json()\n",
    "    return text\n",
    "\n",
    "def curry_stats():\n",
    "    x = file['data'][0].keys()\n",
    "    dic_aux=[]\n",
    "    for e in file['data']:\n",
    "        dic = {\n",
    "            'Minutes per game':e['min'], 'Three_Effectivity':e['fg3_pct'],\n",
    "            'Three_Attempts':e['fg3a'], 'Three_In': e['fg3m'],\n",
    "            'Points':e['pts']\n",
    "            }\n",
    "        dic_aux.append(dic)\n",
    "    df = pd.DataFrame(dic_aux)\n",
    "    df = df[['Minutes per game','Three_In','Three_Attempts','Three_Effectivity','Points']]\n",
    "    return df\n"
   ]
  },
  {
   "cell_type": "code",
   "execution_count": 6,
   "metadata": {},
   "outputs": [
    {
     "ename": "NameError",
     "evalue": "name 'main' is not defined",
     "output_type": "error",
     "traceback": [
      "\u001b[0;31m---------------------------------------------------------------------------\u001b[0m",
      "\u001b[0;31mNameError\u001b[0m                                 Traceback (most recent call last)",
      "\u001b[0;32m<ipython-input-6-768ae35a8bd4>\u001b[0m in \u001b[0;36m<module>\u001b[0;34m\u001b[0m\n\u001b[1;32m     19\u001b[0m \u001b[0;34m\u001b[0m\u001b[0m\n\u001b[1;32m     20\u001b[0m \u001b[0;32mif\u001b[0m \u001b[0m__name__\u001b[0m\u001b[0;34m==\u001b[0m\u001b[0;34m\"__main__\"\u001b[0m\u001b[0;34m:\u001b[0m\u001b[0;34m\u001b[0m\u001b[0;34m\u001b[0m\u001b[0m\n\u001b[0;32m---> 21\u001b[0;31m     \u001b[0mmain\u001b[0m\u001b[0;34m(\u001b[0m\u001b[0;34m)\u001b[0m\u001b[0;34m\u001b[0m\u001b[0;34m\u001b[0m\u001b[0m\n\u001b[0m",
      "\u001b[0;31mNameError\u001b[0m: name 'main' is not defined"
     ]
    }
   ],
   "source": [
    "#main_file\n",
    "\n",
    "def lectura(da):\n",
    "    read= load_data(da)\n",
    "    return read\n",
    "\n",
    "my_data= lectura(\"nba-stats.csv\")\n",
    "my_data = my_data[['Year','Player','Pos','Tm','3PAr','3P','3PA','3P%']]\n",
    "\n",
    "def clean(my_data):\n",
    "    my_data = drop_nulls (my_data, '3P')\n",
    "    my_data = rename (my_data, 'Pos', 'Position')\n",
    "    my_data = rename (my_data, 'Tm', 'Team')\n",
    "    return my_data\n",
    "\n",
    "def analyze (my_data):\n",
    "    my_data = pointers(my_data, '3P')\n",
    "    my_data = shooters (my_data, '3PA')\n",
    "\n",
    "if __name__==\"__main__\":\n",
    "    main()"
   ]
  },
  {
   "cell_type": "code",
   "execution_count": null,
   "metadata": {},
   "outputs": [],
   "source": []
  }
 ],
 "metadata": {
  "kernelspec": {
   "display_name": "Python 3",
   "language": "python",
   "name": "python3"
  },
  "language_info": {
   "codemirror_mode": {
    "name": "ipython",
    "version": 3
   },
   "file_extension": ".py",
   "mimetype": "text/x-python",
   "name": "python",
   "nbconvert_exporter": "python",
   "pygments_lexer": "ipython3",
   "version": "3.7.3"
  }
 },
 "nbformat": 4,
 "nbformat_minor": 2
}
