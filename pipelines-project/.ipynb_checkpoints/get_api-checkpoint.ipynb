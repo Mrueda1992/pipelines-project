{
 "cells": [
  {
   "cell_type": "code",
   "execution_count": 1,
   "metadata": {},
   "outputs": [
    {
     "data": {
      "text/plain": [
       "True"
      ]
     },
     "execution_count": 1,
     "metadata": {},
     "output_type": "execute_result"
    }
   ],
   "source": [
    "import json\n",
    "import requests\n",
    "import os\n",
    "from dotenv import load_dotenv\n",
    "load_dotenv()"
   ]
  },
  {
   "cell_type": "code",
   "execution_count": 2,
   "metadata": {},
   "outputs": [],
   "source": [
    "def getAPI():\n",
    "    NBA_TOKEN = os.environ(\"NBA_TOKEN\")\n",
    "    key = NBA_TOKEN\n",
    "    try:\n",
    "        response = requests.get(\n",
    "            url={\"https://api.mysportsfeeds.com/v2.1/pull/nhl/latest/player_stats_totals.json\"},\n",
    "            params={\n",
    "                \"fordate\": \"20161121\"\n",
    "            },\n",
    "            headers={\n",
    "                \"Authorization\": \"Basic \" + base64.b64encode('{}:{}'.format({TOKEN}, \"MYSPORTSFEEDS\").encode('utf-8')).decode('ascii')\n",
    "            }\n",
    "        )\n",
    "        print('Response HTTP Status Code: {status_code}'.format(\n",
    "            status_code=response.status_code))\n",
    "        print('Response HTTP Response Body: {content}'.format(\n",
    "            content=response.content))\n",
    "    except requests.exceptions.RequestException:\n",
    "        print('HTTP Request failed')"
   ]
  },
  {
   "cell_type": "code",
   "execution_count": null,
   "metadata": {},
   "outputs": [],
   "source": []
  }
 ],
 "metadata": {
  "kernelspec": {
   "display_name": "Python 3",
   "language": "python",
   "name": "python3"
  },
  "language_info": {
   "codemirror_mode": {
    "name": "ipython",
    "version": 3
   },
   "file_extension": ".py",
   "mimetype": "text/x-python",
   "name": "python",
   "nbconvert_exporter": "python",
   "pygments_lexer": "ipython3",
   "version": "3.7.3"
  }
 },
 "nbformat": 4,
 "nbformat_minor": 2
}
